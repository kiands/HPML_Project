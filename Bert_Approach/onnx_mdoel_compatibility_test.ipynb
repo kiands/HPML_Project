{
 "cells": [
  {
   "cell_type": "code",
   "execution_count": 1,
   "id": "5738804e",
   "metadata": {},
   "outputs": [],
   "source": [
    "from transformers import BertTokenizer\n",
    "import numpy as np\n",
    "import onnxruntime as ort\n",
    "from joblib import load\n",
    "\n",
    "tokenizer = BertTokenizer.from_pretrained('./bert-base-uncased')\n",
    "\n",
    "text = \"Murata Manufacturing Co., Ltd.,,homekit,TRADFRI gateway,TRADFRI gateway,\"\n",
    "\n",
    "inputs = tokenizer(\"Text: \" + text, return_tensors=\"pt\", padding='max_length', truncation=True, max_length=128)\n",
    "\n",
    "# convert to numpy array\n",
    "input_ids = inputs[\"input_ids\"].numpy()\n",
    "attention_mask = inputs[\"attention_mask\"].numpy()\n",
    "attention_mask_float = attention_mask.astype(np.float32)"
   ]
  },
  {
   "cell_type": "code",
   "execution_count": 2,
   "id": "d396572b",
   "metadata": {},
   "outputs": [
    {
     "name": "stdout",
     "output_type": "stream",
     "text": [
      "Predicted output label is: IKEA\n"
     ]
    }
   ],
   "source": [
    "# ONNX model\n",
    "onnx_model_path = './onnx/model.onnx'\n",
    "\n",
    "# create ONNX Runtime\n",
    "session = ort.InferenceSession(onnx_model_path)\n",
    "\n",
    "# run ONNX model\n",
    "outputs = session.run(None, {\"input_ids\": input_ids, \"attention_mask\": attention_mask_float})\n",
    "\n",
    "# extract logits\n",
    "logits = outputs[0]\n",
    "\n",
    "# predict\n",
    "predictions = np.argmax(logits, axis=-1)\n",
    "\n",
    "# load LabelEncoder\n",
    "labelencoder = load('labelencoder.joblib')\n",
    "\n",
    "# decode\n",
    "predicted_label = labelencoder.inverse_transform(predictions)[0]\n",
    "print(f\"Predicted output label is: {predicted_label}\")"
   ]
  },
  {
   "cell_type": "code",
   "execution_count": null,
   "id": "44e3a635",
   "metadata": {},
   "outputs": [],
   "source": []
  }
 ],
 "metadata": {
  "kernelspec": {
   "display_name": "Python 3 (ipykernel)",
   "language": "python",
   "name": "python3"
  },
  "language_info": {
   "codemirror_mode": {
    "name": "ipython",
    "version": 3
   },
   "file_extension": ".py",
   "mimetype": "text/x-python",
   "name": "python",
   "nbconvert_exporter": "python",
   "pygments_lexer": "ipython3",
   "version": "3.11.5"
  }
 },
 "nbformat": 4,
 "nbformat_minor": 5
}
