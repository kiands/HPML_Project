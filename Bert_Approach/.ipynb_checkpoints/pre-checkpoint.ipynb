{
 "cells": [
  {
   "cell_type": "code",
   "execution_count": 1,
   "id": "db6c1452",
   "metadata": {},
   "outputs": [],
   "source": [
    "import pandas as pd\n",
    "import json\n",
    "def read_jsonl(path):\n",
    "    # Manually open because .splitlines is different from iterating over lines\n",
    "    with open(path, \"r\") as f:\n",
    "        for line in f:\n",
    "            yield json.loads(line)"
   ]
  },
  {
   "cell_type": "code",
   "execution_count": 2,
   "id": "6d0c1e72",
   "metadata": {},
   "outputs": [],
   "source": [
    "def parse_netdisco(netdisco):\n",
    "    string = ''\n",
    "    for key in list(netdisco.keys()):\n",
    "        if netdisco[key] == None:\n",
    "            continue\n",
    "        string = string + netdisco[key] + ','\n",
    "    return string"
   ]
  },
  {
   "cell_type": "code",
   "execution_count": 3,
   "id": "e3a41654",
   "metadata": {},
   "outputs": [],
   "source": [
    "train_text = []\n",
    "for elem in read_jsonl('train_gpt.jsonl'):\n",
    "    try:\n",
    "        train_text.append(elem['oui_raw'] + ',' + elem['domains'])\n",
    "    except Exception as e:\n",
    "        print(elem)\n",
    "        print(e)\n",
    "        break"
   ]
  },
  {
   "cell_type": "code",
   "execution_count": 4,
   "id": "7b403705",
   "metadata": {},
   "outputs": [],
   "source": [
    "test_text = []\n",
    "for elem in read_jsonl('test_gpt.jsonl'):\n",
    "#     try:\n",
    "#         test_text.append(elem['oui_friendly'] + ',' + elem['dhcp_hostname'] + ',' + elem['manufacturer'] + ',' + parse_netdisco(elem['netdisco_info']))\n",
    "#     except:\n",
    "#         test_text.append(elem['oui_friendly'] + ',' + elem['dhcp_hostname'] + ',' + parse_netdisco(elem['netdisco_info']))\n",
    "    test_text.append(elem['oui_raw'] + ',' + elem['domains'])"
   ]
  },
  {
   "cell_type": "code",
   "execution_count": 6,
   "id": "18f1f219",
   "metadata": {},
   "outputs": [],
   "source": [
    "train_output = []\n",
    "for elem in read_jsonl('train_gpt.jsonl'):\n",
    "    train_output.append(elem['vendor'])"
   ]
  },
  {
   "cell_type": "code",
   "execution_count": 7,
   "id": "d52299db",
   "metadata": {},
   "outputs": [],
   "source": [
    "test_output = []\n",
    "for elem in read_jsonl('test_gpt.jsonl'):\n",
    "    test_output.append(elem['vendor'])"
   ]
  },
  {
   "cell_type": "code",
   "execution_count": 8,
   "id": "4c02ac4d",
   "metadata": {},
   "outputs": [
    {
     "name": "stdout",
     "output_type": "stream",
     "text": [
      "11717\n",
      "11717\n",
      "3093\n",
      "3093\n"
     ]
    }
   ],
   "source": [
    "print(len(train_text))\n",
    "print(len(train_output))\n",
    "print(len(test_text))\n",
    "print(len(test_output))"
   ]
  },
  {
   "cell_type": "code",
   "execution_count": 9,
   "id": "987285f6",
   "metadata": {},
   "outputs": [],
   "source": [
    "pd.DataFrame({'text': train_text, 'output': train_output}).to_csv('bert_train_gpt.csv')\n",
    "pd.DataFrame({'text': test_text, 'output': test_output}).to_csv('bert_test_gpt.csv')"
   ]
  },
  {
   "cell_type": "code",
   "execution_count": 10,
   "id": "54635433",
   "metadata": {},
   "outputs": [],
   "source": [
    "count = pd.read_csv('bert_train.csv')"
   ]
  },
  {
   "cell_type": "code",
   "execution_count": 11,
   "id": "0827bf2f",
   "metadata": {},
   "outputs": [
    {
     "data": {
      "text/plain": [
       "154"
      ]
     },
     "execution_count": 11,
     "metadata": {},
     "output_type": "execute_result"
    }
   ],
   "source": [
    "count['output'].nunique()"
   ]
  },
  {
   "cell_type": "code",
   "execution_count": null,
   "id": "10859c3c",
   "metadata": {},
   "outputs": [],
   "source": []
  }
 ],
 "metadata": {
  "kernelspec": {
   "display_name": "Python 3 (ipykernel)",
   "language": "python",
   "name": "python3"
  },
  "language_info": {
   "codemirror_mode": {
    "name": "ipython",
    "version": 3
   },
   "file_extension": ".py",
   "mimetype": "text/x-python",
   "name": "python",
   "nbconvert_exporter": "python",
   "pygments_lexer": "ipython3",
   "version": "3.11.5"
  }
 },
 "nbformat": 4,
 "nbformat_minor": 5
}
