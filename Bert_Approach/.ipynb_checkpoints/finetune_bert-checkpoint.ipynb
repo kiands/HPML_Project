{
 "cells": [
  {
   "cell_type": "code",
   "execution_count": 1,
   "id": "2f2ded98",
   "metadata": {
    "scrolled": true
   },
   "outputs": [
    {
     "name": "stderr",
     "output_type": "stream",
     "text": [
      "Some weights of BertForSequenceClassification were not initialized from the model checkpoint at ./bert-base-uncased and are newly initialized: ['classifier.weight', 'classifier.bias']\n",
      "You should probably TRAIN this model on a down-stream task to be able to use it for predictions and inference.\n"
     ]
    },
    {
     "data": {
      "application/vnd.jupyter.widget-view+json": {
       "model_id": "75782f8852334c349789575fe70c3fcf",
       "version_major": 2,
       "version_minor": 0
      },
      "text/plain": [
       "Map:   0%|          | 0/11717 [00:00<?, ? examples/s]"
      ]
     },
     "metadata": {},
     "output_type": "display_data"
    },
    {
     "data": {
      "application/vnd.jupyter.widget-view+json": {
       "model_id": "1f2c29ce2e624d9fae01992c9459f8e3",
       "version_major": 2,
       "version_minor": 0
      },
      "text/plain": [
       "Map:   0%|          | 0/3093 [00:00<?, ? examples/s]"
      ]
     },
     "metadata": {},
     "output_type": "display_data"
    },
    {
     "name": "stderr",
     "output_type": "stream",
     "text": [
      "\u001b[34m\u001b[1mwandb\u001b[0m: Currently logged in as: \u001b[33mhexplode2021\u001b[0m. Use \u001b[1m`wandb login --relogin`\u001b[0m to force relogin\n"
     ]
    },
    {
     "data": {
      "text/html": [
       "wandb version 0.16.1 is available!  To upgrade, please run:\n",
       " $ pip install wandb --upgrade"
      ],
      "text/plain": [
       "<IPython.core.display.HTML object>"
      ]
     },
     "metadata": {},
     "output_type": "display_data"
    },
    {
     "data": {
      "text/html": [
       "Tracking run with wandb version 0.15.10"
      ],
      "text/plain": [
       "<IPython.core.display.HTML object>"
      ]
     },
     "metadata": {},
     "output_type": "display_data"
    },
    {
     "data": {
      "text/html": [
       "Run data is saved locally in <code>/media/extend/Programming/Python/Bert_Approach/wandb/run-20231216_201645-xcycgg1t</code>"
      ],
      "text/plain": [
       "<IPython.core.display.HTML object>"
      ]
     },
     "metadata": {},
     "output_type": "display_data"
    },
    {
     "data": {
      "text/html": [
       "Syncing run <strong><a href='https://wandb.ai/hexplode2021/huggingface/runs/xcycgg1t' target=\"_blank\">magic-valley-47</a></strong> to <a href='https://wandb.ai/hexplode2021/huggingface' target=\"_blank\">Weights & Biases</a> (<a href='https://wandb.me/run' target=\"_blank\">docs</a>)<br/>"
      ],
      "text/plain": [
       "<IPython.core.display.HTML object>"
      ]
     },
     "metadata": {},
     "output_type": "display_data"
    },
    {
     "data": {
      "text/html": [
       " View project at <a href='https://wandb.ai/hexplode2021/huggingface' target=\"_blank\">https://wandb.ai/hexplode2021/huggingface</a>"
      ],
      "text/plain": [
       "<IPython.core.display.HTML object>"
      ]
     },
     "metadata": {},
     "output_type": "display_data"
    },
    {
     "data": {
      "text/html": [
       " View run at <a href='https://wandb.ai/hexplode2021/huggingface/runs/xcycgg1t' target=\"_blank\">https://wandb.ai/hexplode2021/huggingface/runs/xcycgg1t</a>"
      ],
      "text/plain": [
       "<IPython.core.display.HTML object>"
      ]
     },
     "metadata": {},
     "output_type": "display_data"
    },
    {
     "data": {
      "text/html": [
       "\n",
       "    <div>\n",
       "      \n",
       "      <progress value='95' max='7330' style='width:300px; height:20px; vertical-align: middle;'></progress>\n",
       "      [  95/7330 00:06 < 08:30, 14.18 it/s, Epoch 0.13/10]\n",
       "    </div>\n",
       "    <table border=\"1\" class=\"dataframe\">\n",
       "  <thead>\n",
       " <tr style=\"text-align: left;\">\n",
       "      <th>Step</th>\n",
       "      <th>Training Loss</th>\n",
       "      <th>Validation Loss</th>\n",
       "    </tr>\n",
       "  </thead>\n",
       "  <tbody>\n",
       "  </tbody>\n",
       "</table><p>\n",
       "    <div>\n",
       "      \n",
       "      <progress value='194' max='194' style='width:300px; height:20px; vertical-align: middle;'></progress>\n",
       "      [194/194 00:03]\n",
       "    </div>\n",
       "    "
      ],
      "text/plain": [
       "<IPython.core.display.HTML object>"
      ]
     },
     "metadata": {},
     "output_type": "display_data"
    },
    {
     "ename": "KeyboardInterrupt",
     "evalue": "",
     "output_type": "error",
     "traceback": [
      "\u001b[0;31m---------------------------------------------------------------------------\u001b[0m",
      "\u001b[0;31mKeyboardInterrupt\u001b[0m                         Traceback (most recent call last)",
      "Cell \u001b[0;32mIn[1], line 64\u001b[0m\n\u001b[1;32m     56\u001b[0m trainer \u001b[38;5;241m=\u001b[39m Trainer(\n\u001b[1;32m     57\u001b[0m     model\u001b[38;5;241m=\u001b[39mmodel,\n\u001b[1;32m     58\u001b[0m     args\u001b[38;5;241m=\u001b[39mtraining_args,\n\u001b[1;32m     59\u001b[0m     train_dataset\u001b[38;5;241m=\u001b[39mtokenized_dataset_train,\n\u001b[1;32m     60\u001b[0m     eval_dataset\u001b[38;5;241m=\u001b[39mtokenized_dataset_eval  \u001b[38;5;66;03m# Evaluation data\u001b[39;00m\n\u001b[1;32m     61\u001b[0m )\n\u001b[1;32m     63\u001b[0m dump(labelencoder, \u001b[38;5;124m'\u001b[39m\u001b[38;5;124mlabelencoder.joblib\u001b[39m\u001b[38;5;124m'\u001b[39m)\n\u001b[0;32m---> 64\u001b[0m trainer\u001b[38;5;241m.\u001b[39mtrain()\n\u001b[1;32m     65\u001b[0m model\u001b[38;5;241m.\u001b[39msave_pretrained(\u001b[38;5;124m\"\u001b[39m\u001b[38;5;124m./results/trained_model\u001b[39m\u001b[38;5;124m\"\u001b[39m)\n",
      "File \u001b[0;32m~/.conda/envs/llama/lib/python3.11/site-packages/transformers/trainer.py:1553\u001b[0m, in \u001b[0;36mTrainer.train\u001b[0;34m(self, resume_from_checkpoint, trial, ignore_keys_for_eval, **kwargs)\u001b[0m\n\u001b[1;32m   1551\u001b[0m         hf_hub_utils\u001b[38;5;241m.\u001b[39menable_progress_bars()\n\u001b[1;32m   1552\u001b[0m \u001b[38;5;28;01melse\u001b[39;00m:\n\u001b[0;32m-> 1553\u001b[0m     \u001b[38;5;28;01mreturn\u001b[39;00m inner_training_loop(\n\u001b[1;32m   1554\u001b[0m         args\u001b[38;5;241m=\u001b[39margs,\n\u001b[1;32m   1555\u001b[0m         resume_from_checkpoint\u001b[38;5;241m=\u001b[39mresume_from_checkpoint,\n\u001b[1;32m   1556\u001b[0m         trial\u001b[38;5;241m=\u001b[39mtrial,\n\u001b[1;32m   1557\u001b[0m         ignore_keys_for_eval\u001b[38;5;241m=\u001b[39mignore_keys_for_eval,\n\u001b[1;32m   1558\u001b[0m     )\n",
      "File \u001b[0;32m~/.conda/envs/llama/lib/python3.11/site-packages/transformers/trainer.py:1813\u001b[0m, in \u001b[0;36mTrainer._inner_training_loop\u001b[0;34m(self, batch_size, args, resume_from_checkpoint, trial, ignore_keys_for_eval)\u001b[0m\n\u001b[1;32m   1810\u001b[0m     rng_to_sync \u001b[38;5;241m=\u001b[39m \u001b[38;5;28;01mTrue\u001b[39;00m\n\u001b[1;32m   1812\u001b[0m step \u001b[38;5;241m=\u001b[39m \u001b[38;5;241m-\u001b[39m\u001b[38;5;241m1\u001b[39m\n\u001b[0;32m-> 1813\u001b[0m \u001b[38;5;28;01mfor\u001b[39;00m step, inputs \u001b[38;5;129;01min\u001b[39;00m \u001b[38;5;28menumerate\u001b[39m(epoch_iterator):\n\u001b[1;32m   1814\u001b[0m     total_batched_samples \u001b[38;5;241m+\u001b[39m\u001b[38;5;241m=\u001b[39m \u001b[38;5;241m1\u001b[39m\n\u001b[1;32m   1815\u001b[0m     \u001b[38;5;28;01mif\u001b[39;00m rng_to_sync:\n",
      "File \u001b[0;32m~/.conda/envs/llama/lib/python3.11/site-packages/accelerate/data_loader.py:393\u001b[0m, in \u001b[0;36mDataLoaderShard.__iter__\u001b[0;34m(self)\u001b[0m\n\u001b[1;32m    390\u001b[0m \u001b[38;5;28;01mtry\u001b[39;00m:\n\u001b[1;32m    391\u001b[0m     \u001b[38;5;66;03m# But we still move it to the device so it is done before `StopIteration` is reached\u001b[39;00m\n\u001b[1;32m    392\u001b[0m     \u001b[38;5;28;01mif\u001b[39;00m \u001b[38;5;28mself\u001b[39m\u001b[38;5;241m.\u001b[39mdevice \u001b[38;5;129;01mis\u001b[39;00m \u001b[38;5;129;01mnot\u001b[39;00m \u001b[38;5;28;01mNone\u001b[39;00m:\n\u001b[0;32m--> 393\u001b[0m         current_batch \u001b[38;5;241m=\u001b[39m send_to_device(current_batch, \u001b[38;5;28mself\u001b[39m\u001b[38;5;241m.\u001b[39mdevice)\n\u001b[1;32m    394\u001b[0m     next_batch \u001b[38;5;241m=\u001b[39m \u001b[38;5;28mnext\u001b[39m(dataloader_iter)\n\u001b[1;32m    395\u001b[0m     \u001b[38;5;28;01mif\u001b[39;00m batch_index \u001b[38;5;241m>\u001b[39m\u001b[38;5;241m=\u001b[39m \u001b[38;5;28mself\u001b[39m\u001b[38;5;241m.\u001b[39mskip_batches:\n",
      "File \u001b[0;32m~/.conda/envs/llama/lib/python3.11/site-packages/accelerate/utils/operations.py:160\u001b[0m, in \u001b[0;36msend_to_device\u001b[0;34m(tensor, device, non_blocking, skip_keys)\u001b[0m\n\u001b[1;32m    157\u001b[0m     \u001b[38;5;28;01melif\u001b[39;00m skip_keys \u001b[38;5;129;01mis\u001b[39;00m \u001b[38;5;28;01mNone\u001b[39;00m:\n\u001b[1;32m    158\u001b[0m         skip_keys \u001b[38;5;241m=\u001b[39m []\n\u001b[1;32m    159\u001b[0m     \u001b[38;5;28;01mreturn\u001b[39;00m \u001b[38;5;28mtype\u001b[39m(tensor)(\n\u001b[0;32m--> 160\u001b[0m         {\n\u001b[1;32m    161\u001b[0m             k: t \u001b[38;5;28;01mif\u001b[39;00m k \u001b[38;5;129;01min\u001b[39;00m skip_keys \u001b[38;5;28;01melse\u001b[39;00m send_to_device(t, device, non_blocking\u001b[38;5;241m=\u001b[39mnon_blocking, skip_keys\u001b[38;5;241m=\u001b[39mskip_keys)\n\u001b[1;32m    162\u001b[0m             \u001b[38;5;28;01mfor\u001b[39;00m k, t \u001b[38;5;129;01min\u001b[39;00m tensor\u001b[38;5;241m.\u001b[39mitems()\n\u001b[1;32m    163\u001b[0m         }\n\u001b[1;32m    164\u001b[0m     )\n\u001b[1;32m    165\u001b[0m \u001b[38;5;28;01melif\u001b[39;00m \u001b[38;5;28mhasattr\u001b[39m(tensor, \u001b[38;5;124m\"\u001b[39m\u001b[38;5;124mto\u001b[39m\u001b[38;5;124m\"\u001b[39m):\n\u001b[1;32m    166\u001b[0m     \u001b[38;5;28;01mtry\u001b[39;00m:\n",
      "File \u001b[0;32m~/.conda/envs/llama/lib/python3.11/site-packages/accelerate/utils/operations.py:161\u001b[0m, in \u001b[0;36m<dictcomp>\u001b[0;34m(.0)\u001b[0m\n\u001b[1;32m    157\u001b[0m     \u001b[38;5;28;01melif\u001b[39;00m skip_keys \u001b[38;5;129;01mis\u001b[39;00m \u001b[38;5;28;01mNone\u001b[39;00m:\n\u001b[1;32m    158\u001b[0m         skip_keys \u001b[38;5;241m=\u001b[39m []\n\u001b[1;32m    159\u001b[0m     \u001b[38;5;28;01mreturn\u001b[39;00m \u001b[38;5;28mtype\u001b[39m(tensor)(\n\u001b[1;32m    160\u001b[0m         {\n\u001b[0;32m--> 161\u001b[0m             k: t \u001b[38;5;28;01mif\u001b[39;00m k \u001b[38;5;129;01min\u001b[39;00m skip_keys \u001b[38;5;28;01melse\u001b[39;00m send_to_device(t, device, non_blocking\u001b[38;5;241m=\u001b[39mnon_blocking, skip_keys\u001b[38;5;241m=\u001b[39mskip_keys)\n\u001b[1;32m    162\u001b[0m             \u001b[38;5;28;01mfor\u001b[39;00m k, t \u001b[38;5;129;01min\u001b[39;00m tensor\u001b[38;5;241m.\u001b[39mitems()\n\u001b[1;32m    163\u001b[0m         }\n\u001b[1;32m    164\u001b[0m     )\n\u001b[1;32m    165\u001b[0m \u001b[38;5;28;01melif\u001b[39;00m \u001b[38;5;28mhasattr\u001b[39m(tensor, \u001b[38;5;124m\"\u001b[39m\u001b[38;5;124mto\u001b[39m\u001b[38;5;124m\"\u001b[39m):\n\u001b[1;32m    166\u001b[0m     \u001b[38;5;28;01mtry\u001b[39;00m:\n",
      "File \u001b[0;32m~/.conda/envs/llama/lib/python3.11/site-packages/accelerate/utils/operations.py:167\u001b[0m, in \u001b[0;36msend_to_device\u001b[0;34m(tensor, device, non_blocking, skip_keys)\u001b[0m\n\u001b[1;32m    165\u001b[0m \u001b[38;5;28;01melif\u001b[39;00m \u001b[38;5;28mhasattr\u001b[39m(tensor, \u001b[38;5;124m\"\u001b[39m\u001b[38;5;124mto\u001b[39m\u001b[38;5;124m\"\u001b[39m):\n\u001b[1;32m    166\u001b[0m     \u001b[38;5;28;01mtry\u001b[39;00m:\n\u001b[0;32m--> 167\u001b[0m         \u001b[38;5;28;01mreturn\u001b[39;00m tensor\u001b[38;5;241m.\u001b[39mto(device, non_blocking\u001b[38;5;241m=\u001b[39mnon_blocking)\n\u001b[1;32m    168\u001b[0m     \u001b[38;5;28;01mexcept\u001b[39;00m \u001b[38;5;167;01mTypeError\u001b[39;00m:  \u001b[38;5;66;03m# .to() doesn't accept non_blocking as kwarg\u001b[39;00m\n\u001b[1;32m    169\u001b[0m         \u001b[38;5;28;01mreturn\u001b[39;00m tensor\u001b[38;5;241m.\u001b[39mto(device)\n",
      "\u001b[0;31mKeyboardInterrupt\u001b[0m: "
     ]
    }
   ],
   "source": [
    "# With evaluation\n",
    "from sklearn.preprocessing import LabelEncoder\n",
    "from transformers import BertForSequenceClassification, BertTokenizer, Trainer, TrainingArguments\n",
    "from datasets import Dataset\n",
    "import pandas as pd\n",
    "from joblib import dump\n",
    "import torch\n",
    "\n",
    "# prepare data\n",
    "def prepare_data_for_bert(df):\n",
    "    df['bert_input'] = \"Text: \" + df['text'].astype(str)\n",
    "    return df\n",
    "\n",
    "# read data\n",
    "df_train = pd.read_csv('bert_train_gpt.csv')  # make sure the CSV file has 'text' and 'output' columns\n",
    "df_eval = pd.read_csv('bert_test_gpt.csv')  # Evaluation data\n",
    "\n",
    "# Label encoding for the output labels\n",
    "labelencoder = LabelEncoder()\n",
    "df_train['output'] = labelencoder.fit_transform(df_train['output'])\n",
    "df_eval['output'] = labelencoder.transform(df_eval['output']) \n",
    "\n",
    "prepared_df_train = prepare_data_for_bert(df_train)\n",
    "prepared_df_eval = prepare_data_for_bert(df_eval)\n",
    "\n",
    "# transform to Hugging Face Dataset\n",
    "dataset_train = Dataset.from_pandas(prepared_df_train)\n",
    "dataset_eval = Dataset.from_pandas(prepared_df_eval)\n",
    "\n",
    "# initialize model and tokenizer\n",
    "tokenizer = BertTokenizer.from_pretrained('./bert-base-uncased')\n",
    "model = BertForSequenceClassification.from_pretrained('./bert-base-uncased', num_labels=len(labelencoder.classes_))\n",
    "\n",
    "# tokenize function\n",
    "def tokenize_and_add_labels(batch):\n",
    "    tokenized_inputs = tokenizer(batch['bert_input'], truncation=True, padding='max_length', max_length=128)\n",
    "    tokenized_inputs['labels'] = batch['output']\n",
    "    return tokenized_inputs\n",
    "\n",
    "tokenized_dataset_train = dataset_train.map(tokenize_and_add_labels, batched=True)\n",
    "tokenized_dataset_eval = dataset_eval.map(tokenize_and_add_labels, batched=True)\n",
    "\n",
    "\n",
    "# training arguments\n",
    "training_args = TrainingArguments(\n",
    "    output_dir='./results',\n",
    "    num_train_epochs=10,\n",
    "    per_device_train_batch_size=16,\n",
    "    per_device_eval_batch_size=16,\n",
    "    logging_dir='./logs',\n",
    "    logging_steps=500,\n",
    "    evaluation_strategy=\"steps\",  # Evaluate the model every 'logging_steps'\n",
    ")\n",
    "\n",
    "# create a trainer\n",
    "trainer = Trainer(\n",
    "    model=model,\n",
    "    args=training_args,\n",
    "    train_dataset=tokenized_dataset_train,\n",
    "    eval_dataset=tokenized_dataset_eval  # Evaluation data\n",
    ")\n",
    "\n",
    "dump(labelencoder, 'labelencoder.joblib')\n",
    "trainer.train()\n",
    "model.save_pretrained(\"./results/trained_model\")"
   ]
  },
  {
   "cell_type": "code",
   "execution_count": 2,
   "id": "51b964fb",
   "metadata": {},
   "outputs": [],
   "source": [
    "# Evaluate\n",
    "import pandas as pd\n",
    "import torch\n",
    "\n",
    "# Function to compute the confusion matrix\n",
    "def compute_confusion_matrix(true_labels, pred_labels, num_classes):\n",
    "    confusion_matrix = torch.zeros(num_classes, num_classes)\n",
    "    for t, p in zip(true_labels, pred_labels):\n",
    "        confusion_matrix[t, p] += 1\n",
    "    return confusion_matrix\n",
    "\n",
    "# Function to compute rates based on the confusion matrix\n",
    "def compute_rates(confusion_matrix):\n",
    "    tp = torch.diag(confusion_matrix)\n",
    "    fp = confusion_matrix.sum(dim=0) - tp\n",
    "    fn = confusion_matrix.sum(dim=1) - tp\n",
    "    tn = confusion_matrix.sum() - (fp + fn + tp)\n",
    "    \n",
    "    tpr = tp / (tp + fn)\n",
    "    fpr = fp / (fp + tn)\n",
    "    fnr = fn / (tp + fn)\n",
    "    tnr = tn / (tn + fp)\n",
    "    class_count = tp+fp\n",
    "    \n",
    "    return tp, fp, fn, tn, tpr, fpr, fnr, tnr, class_count\n",
    "\n",
    "# Generate predictions\n",
    "predictions = trainer.predict(tokenized_dataset_eval)\n",
    "pred_labels = predictions.predictions.argmax(axis=1)\n",
    "true_labels = tokenized_dataset_eval[\"labels\"]\n",
    "\n",
    "# Generate confusion matrix and compute rates\n",
    "num_classes = len(labelencoder.classes_)\n",
    "confusion_matrix = compute_confusion_matrix(true_labels, pred_labels, num_classes)\n",
    "tp, fp, fn, tn, tpr, fpr, fnr, tnr, class_count = compute_rates(confusion_matrix)\n",
    "\n",
    "# Store confusion matrix in a Pandas DataFrame\n",
    "confusion_df = pd.DataFrame(confusion_matrix.numpy(), columns=labelencoder.classes_, index=labelencoder.classes_)\n",
    "\n",
    "# Store rates in a Pandas DataFrame\n",
    "rates_df = pd.DataFrame({\n",
    "    'True Positive': tp.numpy(),\n",
    "    'False Positive': fp.numpy(),\n",
    "    'False Negative': fn.numpy(),\n",
    "    'True Negative': tn.numpy(),\n",
    "    'True Positive Rate': tpr.numpy(),\n",
    "    'False Positive Rate': fpr.numpy(),\n",
    "    'False Negative Rate': fnr.numpy(),\n",
    "    'True Negative Rate': tnr.numpy(),\n",
    "    'class_count': class_count.numpy()\n",
    "}, index=labelencoder.classes_)\n",
    "\n",
    "\n",
    "# print(\"\\nRates:\")\n",
    "# display(rates_df.head(10))"
   ]
  },
  {
   "cell_type": "code",
   "execution_count": 3,
   "id": "3c38398a",
   "metadata": {},
   "outputs": [],
   "source": [
    "rates_df.to_csv('./results/confusion_matrix_bert_gpt.csv')"
   ]
  },
  {
   "cell_type": "code",
   "execution_count": 4,
   "id": "05e8ce64",
   "metadata": {},
   "outputs": [
    {
     "data": {
      "text/plain": [
       "array(['2GIG Technologies', '2Wire Inc', 'ADT Security Services',\n",
       "       'APC by Schneider Electric', 'ARRIS', 'ASDF Technologies',\n",
       "       'ASRock', 'ASUS', 'AVM', 'Abode', 'Acer', 'Adafruit', 'Adax',\n",
       "       'Aeotec', 'AirTV', 'Airthings', 'Aladdin Connect', 'Alibaba Group',\n",
       "       'Amazon', 'Ambient Weather', 'Amcrest', 'Amlogic', 'Anker',\n",
       "       'Ankuoo', 'Apple', 'Aqara', 'Asustor', 'Athom', 'Audio Pro',\n",
       "       'August Home', 'Aukey', 'Avatar Controls', 'Awair', 'Awox',\n",
       "       'Axis Communications', 'AzureWave Technologies',\n",
       "       'BT (British Telecom)', 'Bang & Olufsen', 'Beautyrest', 'Belkin',\n",
       "       'Besder', 'Big Ass Fans', 'BlackBerry', 'Blink', 'Blitzwolf',\n",
       "       'BloomSky', 'Bluesound', 'Bond Home', 'Bosch', 'Bose',\n",
       "       'Bouygues Telecom', 'Bowers & Wilkins', 'Brilliant', 'British Gas',\n",
       "       'BroadLink', 'Brother', 'Bryant', 'Bticino', 'Buffalo', 'CE Smart',\n",
       "       'Caavo', 'Canary', 'Canon', 'Canonical', 'Carrier', 'Cecotec',\n",
       "       'Chamberlain', 'ChargePoint', 'Charging Essentials', 'ChefSteps',\n",
       "       'Chillblast', 'Cisco', 'Comcast', 'Conico', 'ConnectSense',\n",
       "       'Control4', 'CoolCam', 'D-Link', 'DIRECTV', 'DISH Network',\n",
       "       'DMP Electronics', 'Dahua Technology', 'Daikin', 'Dell', 'Denon',\n",
       "       'Dericam', 'Devialet', 'Discovergy', 'Doorbird', 'Drobo',\n",
       "       'Dune HD', 'Dunno Technologies', 'Dyson', 'EDNET', 'EE',\n",
       "       'EPS Security', 'EXTSUD', 'Eaton', 'Echostar Technologies LLC',\n",
       "       'Ecovacs', 'Eero', 'Emerson', 'Emporia Energy', 'Enphase',\n",
       "       'Envisacor Technologies', 'Epson', 'Etekcity', 'Eufy', 'Eve',\n",
       "       'Evtevision', 'Extollo Networks', 'EyezOn', 'Ezviz',\n",
       "       'FDT Technologies', 'Facebook', 'Feit Electric', 'Fetch TV',\n",
       "       'Fibaro', 'Fing Ltd', 'First Alert', 'FlightAware', 'Foobot',\n",
       "       'Foscam', 'Fossil', 'Foxtel', 'Free', 'FreeNAS', 'Freebox',\n",
       "       'Fronius', 'Funlux', 'GARDENA', 'GMYLE', 'Garadget', 'Geekbes',\n",
       "       'Geeni', 'Generac', 'General Electric', 'Generic', 'Geochron Labs',\n",
       "       'Gigabyte', 'Gigaset', 'GoSung', 'Google', 'Gosund',\n",
       "       'Grace Digital', 'Grandstream', 'Grohe', 'Grundig', 'HP', 'HPE',\n",
       "       'HTC', 'Hama', 'Hampton Products', 'HaoDeng', 'Harman Kardon',\n",
       "       'Hass.io', 'Heatmiser', 'Helea', 'Hi-Flying Technology',\n",
       "       'Hikam Technologies', 'Hikvision', 'Hisense', 'Hive (British Gas)',\n",
       "       'Home Assistant', 'HomeSeer Technologies', 'Homebridge', 'Homee',\n",
       "       'Honeywell', 'Horsky', 'Hosafe', 'Huawei', 'Hubitat', 'Humax',\n",
       "       'Hunter Douglas', 'Hunter Fan Company', 'IBM', 'IKEA', 'ITEAD',\n",
       "       'InnoMedia', 'Insignia', 'Insignia (Best Buy)', 'Insteon', 'Intel',\n",
       "       'Intermec', 'Invoxia', 'Itiot Technologies', 'JBL', 'Jandy',\n",
       "       'Jumbospot', 'June Life', 'Kodak', 'Kohler', 'Konke',\n",
       "       'Konnected Inc', 'Koogeek', 'Kuman', 'LG', 'LIFX', 'LOHAS',\n",
       "       'La Crosse Technology', 'LaCie', 'LaCrosse Technologies',\n",
       "       'LaMetric', 'Legrand', 'Lennox', 'Lenovo', 'Lepro', 'Leviton',\n",
       "       'Levoit', 'Libratone', 'LiftMaster', 'Linksys', 'Loewe',\n",
       "       'Logitech', 'Lorex', 'Lutron', 'Lyfx Technologies',\n",
       "       'MIPC Technology Co., Ltd', 'MOES', 'MSI', 'Magic Home', 'Marantz',\n",
       "       'Maxcio', 'MediaTek', 'Medion', 'Merkury Innovations', 'Meross',\n",
       "       'Microsoft', 'Midea', 'Miele', 'MikroTik', 'Milight', 'Mill',\n",
       "       'Minger', 'Mirabella', 'Mitsubishi', 'Molekule', 'Monoprice',\n",
       "       'Mozilla', 'Mysa', 'NETGEAR', 'Naim Audio', 'Nanoleaf',\n",
       "       'Nature Remo', 'Neato Robotics', 'Nedis', 'Netatmo', 'Netvue',\n",
       "       'Nexia Home Intelligence', 'Night Owl Security', 'Nintendo',\n",
       "       'Nixplay', 'Nokia', 'NordicTrack', 'Nuheat', 'Nuki',\n",
       "       'Nunya Technologies', 'Nvidia', 'OHLUX', 'Oakter',\n",
       "       'Obihai Technology', 'Oculus', 'OnePlus', 'Onkyo', 'Ooma',\n",
       "       'OpenMediaVault', 'Oracle', 'Orbit/B-hyve', 'Orvibo', 'Osram',\n",
       "       'Panasonic', 'Parce Technologies', 'Petcube', 'Peteme', 'Philips',\n",
       "       'Pioneer', 'Piper Networks', 'Pixstar', 'Plex', 'Plume', 'Polycom',\n",
       "       'Proscenic', 'Q-See', 'QNAP', 'Qube-Smarthome.com', 'Quirky/Wink',\n",
       "       'RIPE NCC', 'Rachio', 'Rain Bird', 'RainMachine',\n",
       "       'Rainforest Automation', 'Raspberry Pi Foundation', 'Raumfeld',\n",
       "       'Reolink', 'Rheem', 'Ring', 'RiverSong Audio', 'Roborock', 'Roku',\n",
       "       'Rollease Acmeda', 'SFR Group', 'SMA Solar Technology', 'SV3C',\n",
       "       'Sagemcom', 'SamKnows', 'Samsung', 'Scentsy', 'Schlage',\n",
       "       'Schneider Electric', 'Scout Technologies', 'Seagate', 'Sense',\n",
       "       'Sensi', 'Sensibo', 'SharkNinja', 'SharkRF', 'Sharp', 'Shelly',\n",
       "       'Shenzhen SmartEye Technology Co., Ltd', 'Siemens', 'Signify',\n",
       "       'SiliconDust', 'SimpliSafe', 'Sinope Technologies', 'Sky',\n",
       "       'SkyBell Technologies', 'Sleep Number', 'Sling Media', 'SnapAV',\n",
       "       'SolarEdge', 'Somfy', 'Sonoff', 'Sonos', 'Sony',\n",
       "       'Speco Technologies', 'Subaru', 'Sunba Technology Co., Ltd',\n",
       "       'Sunpower', 'Supermicro', 'Sure Petcare', 'Swann', 'Swisscom',\n",
       "       'SwitchBot', 'Synology', 'TCL', 'TED (The Energy Detective)',\n",
       "       'TENVIS', 'TP-Link', 'TRENDnet', 'Tado', 'TanTan Technology',\n",
       "       'Technicolor', 'Teckin', 'Telekom', 'Telldus Technologies',\n",
       "       'Telus', 'Tend.ai', 'Tenda', 'Tesla', 'Teufel',\n",
       "       'Texas Instruments', 'TiVo', 'Toshiba', 'Tovala', 'Trane', 'Tuya',\n",
       "       'UCam247', 'Ubiquiti', 'Uniden', 'Universal Devices',\n",
       "       'Universal Global Scientific', 'V380', 'VELUX', 'VIVOTEK',\n",
       "       'VMware', 'VOCOlinc', 'VStarcam', 'VTech', 'Vera Control Ltd',\n",
       "       'Verizon', 'Vesync', 'Virgin Media', 'Vivint', 'Vizio', 'Vodafone',\n",
       "       'Vonage', 'WBX Technologies', 'WEMO', 'Wanscam', 'Wansview',\n",
       "       'WeatherFlow', 'Western Digital', 'WiZ', 'Wistron', 'Withings',\n",
       "       'Woox Innovations', 'Worx', 'Wyze', 'Xiaomi', 'Yamaha',\n",
       "       'Yi Technology\\t', 'Yoosee', 'ZTE', 'Zinwell', 'Zmodo', 'bq',\n",
       "       'devolo', 'eMotorWerks', 'eQ-3', 'ecobee', 'iBaby Labs', 'iClever',\n",
       "       'iDevices', 'iHome', 'iRobot', 'magicJack', 'myStrom',\n",
       "       'openHAB Foundation', 'qBittorrent'], dtype=object)"
      ]
     },
     "execution_count": 4,
     "metadata": {},
     "output_type": "execute_result"
    }
   ],
   "source": [
    "labelencoder.classes_"
   ]
  },
  {
   "cell_type": "code",
   "execution_count": 5,
   "id": "ab04e50f",
   "metadata": {},
   "outputs": [
    {
     "name": "stdout",
     "output_type": "stream",
     "text": [
      "Predicted output label is: IKEA\n"
     ]
    }
   ],
   "source": [
    "# single test\n",
    "from transformers import BertTokenizer, BertForSequenceClassification\n",
    "from joblib import load\n",
    "import torch\n",
    "\n",
    "# load saved model and the original tokenizer\n",
    "model = BertForSequenceClassification.from_pretrained('./results/trained_model')\n",
    "tokenizer = BertTokenizer.from_pretrained('./bert-base-uncased')\n",
    "\n",
    "# load saved LabelEncoder\n",
    "labelencoder = load('labelencoder.joblib')\n",
    "\n",
    "# the text we want to predict\n",
    "new_text = \"Murata Manufacturing Co., Ltd.,,homekit,TRADFRI gateway,TRADFRI gateway,\"\n",
    "\n",
    "# preprocess\n",
    "bert_input = f\"Text: {new_text}\"\n",
    "\n",
    "# tokenize\n",
    "inputs = tokenizer(bert_input, padding=True, truncation=True, max_length=128, return_tensors=\"pt\")\n",
    "\n",
    "# inference\n",
    "with torch.no_grad():\n",
    "    outputs = model(**inputs)\n",
    "    logits = outputs.logits\n",
    "    predictions = torch.argmax(logits, dim=-1)\n",
    "\n",
    "# decode the label\n",
    "predicted_label = labelencoder.inverse_transform([predictions.item()])[0]\n",
    "print(f\"Predicted output label is: {predicted_label}\")"
   ]
  },
  {
   "cell_type": "code",
   "execution_count": 6,
   "id": "b0790558",
   "metadata": {},
   "outputs": [
    {
     "name": "stdout",
     "output_type": "stream",
     "text": [
      "============= Diagnostic Run torch.onnx.export version 2.0.1+cu117 =============\n",
      "verbose: False, log level: Level.ERROR\n",
      "======================= 0 NONE 0 NOTE 0 WARNING 0 ERROR ========================\n",
      "\n"
     ]
    }
   ],
   "source": [
    "# ONNX convert\n",
    "import torch\n",
    "from transformers import BertForSequenceClassification\n",
    "\n",
    "# load trained model (pytorch original)\n",
    "model = BertForSequenceClassification.from_pretrained(\"./results/trained_model\")\n",
    "\n",
    "# create a dummy input to fit the input format\n",
    "input_ids = torch.randint(0, model.config.vocab_size, (1, 128))  # length is 128\n",
    "# attention_mask = torch.ones(1, 128)\n",
    "attention_mask = torch.ones(1, 128).to(torch.float32)\n",
    "dummy_input = (input_ids, attention_mask)\n",
    "\n",
    "# set to evaluate mode\n",
    "model.eval()\n",
    "\n",
    "# output to ONNX format\n",
    "onnx_model_path = \"./onnx/model.onnx\"\n",
    "torch.onnx.export(model, dummy_input, onnx_model_path, input_names=['input_ids', 'attention_mask'], \n",
    "                  output_names=['output'], opset_version=11)\n"
   ]
  },
  {
   "cell_type": "code",
   "execution_count": null,
   "id": "a31efb53",
   "metadata": {},
   "outputs": [],
   "source": []
  }
 ],
 "metadata": {
  "kernelspec": {
   "display_name": "Python 3 (ipykernel)",
   "language": "python",
   "name": "python3"
  },
  "language_info": {
   "codemirror_mode": {
    "name": "ipython",
    "version": 3
   },
   "file_extension": ".py",
   "mimetype": "text/x-python",
   "name": "python",
   "nbconvert_exporter": "python",
   "pygments_lexer": "ipython3",
   "version": "3.11.5"
  }
 },
 "nbformat": 4,
 "nbformat_minor": 5
}
